{
 "cells": [
  {
   "cell_type": "markdown",
   "metadata": {},
   "source": [
    "# Dissipation VS Current Fluctuations\n",
    "\n",
    "We are trying to apply the idea presented by Barato and Seifert (PRL, 2015) and proved by Gingrich et al. (PRL, 2016) to motility assays.\n",
    "The data is a set of microtubule positions extracted by O. Idan and M. Armstrong for Palacci et al. (Langmuir, 2016). The pre-processing was done previously using XL, and the resulting file has a set of microtubule displacements measured in μm every 2 seconds, for 20 microtubules and 5 different kinesin densities.\n",
    "\n",
    "We need to do the following:\n",
    "- estimate the number of bound kinesins to each microtubule using the width found previously\n",
    "- estimate the fluctuations for various t\n",
    "- estimate the amount of dissipation, using average ATP consumption - we can initially neglect the hydrodynamic dissipation\n",
    "- do this for varying Δt and plot the product of the dissipation and the fluctuation; then see what happens"
   ]
  },
  {
   "cell_type": "code",
   "execution_count": 1,
   "metadata": {
    "collapsed": false
   },
   "outputs": [
    {
     "name": "stderr",
     "output_type": "stream",
     "text": [
      "\n",
      "Attaching package: ‘dplyr’\n",
      "\n",
      "The following objects are masked from ‘package:stats’:\n",
      "\n",
      "    filter, lag\n",
      "\n",
      "The following objects are masked from ‘package:base’:\n",
      "\n",
      "    intersect, setdiff, setequal, union\n",
      "\n",
      "\n",
      "Attaching package: ‘cowplot’\n",
      "\n",
      "The following object is masked from ‘package:ggplot2’:\n",
      "\n",
      "    ggsave\n",
      "\n",
      "\n",
      "Attaching package: ‘tidyr’\n",
      "\n",
      "The following object is masked from ‘package:magrittr’:\n",
      "\n",
      "    extract\n",
      "\n"
     ]
    }
   ],
   "source": [
    "library(dplyr)\n",
    "library(ggplot2)\n",
    "library(cowplot)\n",
    "library(magrittr)\n",
    "library(tidyr)\n",
    "library(broom)"
   ]
  },
  {
   "cell_type": "markdown",
   "metadata": {},
   "source": [
    "## First data scrub"
   ]
  },
  {
   "cell_type": "code",
   "execution_count": 2,
   "metadata": {
    "collapsed": false
   },
   "outputs": [
    {
     "data": {
      "text/html": [
       "<table>\n",
       "<thead><tr><th></th><th scope=col>mt_id</th><th scope=col>x</th><th scope=col>y</th><th scope=col>density</th><th scope=col>mt</th><th scope=col>t_seconds</th><th scope=col>mt_length</th><th scope=col>deltaR_um</th></tr></thead>\n",
       "<tbody>\n",
       "\t<tr><th scope=row>1</th><td>1_250</td><td>832</td><td>182</td><td>250</td><td>1</td><td>2</td><td>5.9734</td><td>0</td></tr>\n",
       "\t<tr><th scope=row>2</th><td>1_250</td><td>830.833</td><td>188.25</td><td>250</td><td>1</td><td>4</td><td>5.9734</td><td>1.271604</td></tr>\n",
       "\t<tr><th scope=row>3</th><td>1_250</td><td>827.25</td><td>191</td><td>250</td><td>1</td><td>6</td><td>5.9734</td><td>0.9033358</td></tr>\n",
       "\t<tr><th scope=row>4</th><td>1_250</td><td>826.375</td><td>197.625</td><td>250</td><td>1</td><td>8</td><td>5.9734</td><td>1.336507</td></tr>\n",
       "\t<tr><th scope=row>5</th><td>1_250</td><td>823</td><td>203</td><td>250</td><td>1</td><td>10</td><td>5.9734</td><td>1.26935</td></tr>\n",
       "\t<tr><th scope=row>6</th><td>1_250</td><td>822.042</td><td>206.917</td><td>250</td><td>1</td><td>12</td><td>5.9734</td><td>0.80649</td></tr>\n",
       "</tbody>\n",
       "</table>\n"
      ],
      "text/latex": [
       "\\begin{tabular}{r|llllllll}\n",
       "  & mt_id & x & y & density & mt & t_seconds & mt_length & deltaR_um\\\\\n",
       "\\hline\n",
       "\t1 & 1_250 & 832 & 182 & 250 & 1 & 2 & 5.9734 & 0\\\\\n",
       "\t2 & 1_250 & 830.833 & 188.25 & 250 & 1 & 4 & 5.9734 & 1.271604\\\\\n",
       "\t3 & 1_250 & 827.25 & 191 & 250 & 1 & 6 & 5.9734 & 0.9033358\\\\\n",
       "\t4 & 1_250 & 826.375 & 197.625 & 250 & 1 & 8 & 5.9734 & 1.336507\\\\\n",
       "\t5 & 1_250 & 823 & 203 & 250 & 1 & 10 & 5.9734 & 1.26935\\\\\n",
       "\t6 & 1_250 & 822.042 & 206.917 & 250 & 1 & 12 & 5.9734 & 0.80649\\\\\n",
       "\\end{tabular}\n"
      ],
      "text/plain": [
       "  mt_id       x       y density mt t_seconds mt_length deltaR_um\n",
       "1 1_250 832.000 182.000     250  1         2    5.9734 0.0000000\n",
       "2 1_250 830.833 188.250     250  1         4    5.9734 1.2716035\n",
       "3 1_250 827.250 191.000     250  1         6    5.9734 0.9033358\n",
       "4 1_250 826.375 197.625     250  1         8    5.9734 1.3365066\n",
       "5 1_250 823.000 203.000     250  1        10    5.9734 1.2693502\n",
       "6 1_250 822.042 206.917     250  1        12    5.9734 0.8064900"
      ]
     },
     "execution_count": 2,
     "metadata": {},
     "output_type": "execute_result"
    }
   ],
   "source": [
    "motility_data <- read.csv(\"../data/fluctdata.csv\")\n",
    "head(motility_data)"
   ]
  },
  {
   "cell_type": "code",
   "execution_count": 3,
   "metadata": {
    "collapsed": false
   },
   "outputs": [],
   "source": [
    "# ugly replacing of approximate density factors with their values\n",
    "# the density of kinesin on the surface is given in 1/um2\n",
    "densities <- motility_data$density\n",
    "densities[densities == 250] <- 310\n",
    "densities[densities == 500] <- 620\n",
    "densities[densities == 1000] <- 1250\n",
    "densities[densities == 2000] <- 2500\n",
    "densities[densities == 2500] <- 3100\n",
    "motility_data$density <- densities"
   ]
  },
  {
   "cell_type": "code",
   "execution_count": 6,
   "metadata": {
    "collapsed": false
   },
   "outputs": [],
   "source": [
    "# we define the effective width of binding of each MT according to Palacci et al.\n",
    "effective_width <- 0.088 # 88 nm defined in um\n",
    "\n",
    "# we add the estimated number of bound kinesin to the data frame\n",
    "motility_data %<>% mutate(n_kinesin = mt_length * effective_width * density)\n",
    "\n",
    "# we then add the estimated number of kTs dissipated per period\n",
    "\n",
    "atp_energy = 20 # our energy unit will be kTs\n",
    "hydro_rate = 100 # kinesin hydrolyses 100 ATP per second\n",
    "\n",
    "motility_data %<>% mutate(dissipation = n_kinesin * atp_energy * hydro_rate * 2)\n"
   ]
  },
  {
   "cell_type": "code",
   "execution_count": 7,
   "metadata": {
    "collapsed": false
   },
   "outputs": [
    {
     "data": {
      "text/html": [
       "<table>\n",
       "<thead><tr><th></th><th scope=col>mt_id</th><th scope=col>x</th><th scope=col>y</th><th scope=col>density</th><th scope=col>mt</th><th scope=col>t_seconds</th><th scope=col>mt_length</th><th scope=col>deltaR_um</th><th scope=col>n_kinesin</th><th scope=col>dissipation</th></tr></thead>\n",
       "<tbody>\n",
       "\t<tr><th scope=row>1</th><td>1_250</td><td>832</td><td>182</td><td>310</td><td>1</td><td>2</td><td>5.9734</td><td>0</td><td>162.9544</td><td>651817.4</td></tr>\n",
       "\t<tr><th scope=row>2</th><td>1_250</td><td>830.833</td><td>188.25</td><td>310</td><td>1</td><td>4</td><td>5.9734</td><td>1.271604</td><td>162.9544</td><td>651817.4</td></tr>\n",
       "\t<tr><th scope=row>3</th><td>1_250</td><td>827.25</td><td>191</td><td>310</td><td>1</td><td>6</td><td>5.9734</td><td>0.9033358</td><td>162.9544</td><td>651817.4</td></tr>\n",
       "\t<tr><th scope=row>4</th><td>1_250</td><td>826.375</td><td>197.625</td><td>310</td><td>1</td><td>8</td><td>5.9734</td><td>1.336507</td><td>162.9544</td><td>651817.4</td></tr>\n",
       "\t<tr><th scope=row>5</th><td>1_250</td><td>823</td><td>203</td><td>310</td><td>1</td><td>10</td><td>5.9734</td><td>1.26935</td><td>162.9544</td><td>651817.4</td></tr>\n",
       "\t<tr><th scope=row>6</th><td>1_250</td><td>822.042</td><td>206.917</td><td>310</td><td>1</td><td>12</td><td>5.9734</td><td>0.80649</td><td>162.9544</td><td>651817.4</td></tr>\n",
       "</tbody>\n",
       "</table>\n"
      ],
      "text/latex": [
       "\\begin{tabular}{r|llllllllll}\n",
       "  & mt_id & x & y & density & mt & t_seconds & mt_length & deltaR_um & n_kinesin & dissipation\\\\\n",
       "\\hline\n",
       "\t1 & 1_250 & 832 & 182 & 310 & 1 & 2 & 5.9734 & 0 & 162.9544 & 651817.4\\\\\n",
       "\t2 & 1_250 & 830.833 & 188.25 & 310 & 1 & 4 & 5.9734 & 1.271604 & 162.9544 & 651817.4\\\\\n",
       "\t3 & 1_250 & 827.25 & 191 & 310 & 1 & 6 & 5.9734 & 0.9033358 & 162.9544 & 651817.4\\\\\n",
       "\t4 & 1_250 & 826.375 & 197.625 & 310 & 1 & 8 & 5.9734 & 1.336507 & 162.9544 & 651817.4\\\\\n",
       "\t5 & 1_250 & 823 & 203 & 310 & 1 & 10 & 5.9734 & 1.26935 & 162.9544 & 651817.4\\\\\n",
       "\t6 & 1_250 & 822.042 & 206.917 & 310 & 1 & 12 & 5.9734 & 0.80649 & 162.9544 & 651817.4\\\\\n",
       "\\end{tabular}\n"
      ],
      "text/plain": [
       "  mt_id       x       y density mt t_seconds mt_length deltaR_um n_kinesin\n",
       "1 1_250 832.000 182.000     310  1         2    5.9734 0.0000000  162.9544\n",
       "2 1_250 830.833 188.250     310  1         4    5.9734 1.2716035  162.9544\n",
       "3 1_250 827.250 191.000     310  1         6    5.9734 0.9033358  162.9544\n",
       "4 1_250 826.375 197.625     310  1         8    5.9734 1.3365066  162.9544\n",
       "5 1_250 823.000 203.000     310  1        10    5.9734 1.2693502  162.9544\n",
       "6 1_250 822.042 206.917     310  1        12    5.9734 0.8064900  162.9544\n",
       "  dissipation\n",
       "1    651817.4\n",
       "2    651817.4\n",
       "3    651817.4\n",
       "4    651817.4\n",
       "5    651817.4\n",
       "6    651817.4"
      ]
     },
     "execution_count": 7,
     "metadata": {},
     "output_type": "execute_result"
    }
   ],
   "source": [
    "head(motility_data)"
   ]
  },
  {
   "cell_type": "code",
   "execution_count": 10,
   "metadata": {
    "collapsed": false
   },
   "outputs": [],
   "source": [
    "# now regrouping data to calculate the relative error and plot\n",
    "\n",
    "diss_vs_fluc <- motility_data %>% group_by(mt_id) %>% summarise(avg_diss = mean(dissipation), \n",
    "                                                fluct = var(deltaR_um)/mean(deltaR_um)^2)"
   ]
  },
  {
   "cell_type": "code",
   "execution_count": 27,
   "metadata": {
    "collapsed": false
   },
   "outputs": [
    {
     "name": "stderr",
     "output_type": "stream",
     "text": [
      "Warning message:\n",
      ": Removed 1 rows containing missing values (geom_point)."
     ]
    },
    {
     "data": {
      "image/png": "[encoded data removed]",
      "text/plain": [
       "plot without title"
      ]
     },
     "metadata": {
      "image/svg+xml": {
       "isolated": true
      }
     },
     "output_type": "display_data"
    }
   ],
   "source": [
    "# and plotting our uncertainty relationship:\n",
    "options(repr.plot.width = 3, repr.plot.height = 2)\n",
    "\n",
    "plot1 <- ggplot(data = diss_vs_fluc, aes(x=avg_diss,y = fluct * avg_diss)) + geom_point(size=0.1) + \n",
    "    theme_bw() +\n",
    "    scale_y_log10(limits = c(1,1000000))\n",
    "print(plot1)"
   ]
  },
  {
   "cell_type": "code",
   "execution_count": null,
   "metadata": {
    "collapsed": true
   },
   "outputs": [],
   "source": []
  }
 ],
 "metadata": {
  "kernelspec": {
   "display_name": "R",
   "language": "R",
   "name": "ir"
  },
  "language_info": {
   "codemirror_mode": "r",
   "file_extension": ".r",
   "mimetype": "text/x-r-source",
   "name": "R",
   "pygments_lexer": "r",
   "version": "3.2.2"
  }
 },
 "nbformat": 4,
 "nbformat_minor": 0
}
